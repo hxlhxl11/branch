{
 "cells": [
  {
   "cell_type": "code",
   "execution_count": null,
   "id": "9a478c98",
   "metadata": {},
   "outputs": [],
   "source": [
    "print(\"hello\")"
   ]
  },
  {
   "cell_type": "markdown",
   "id": "9241ecb0",
   "metadata": {},
   "source": [
    "# 一级标题"
   ]
  },
  {
   "cell_type": "code",
   "execution_count": 1,
   "id": "7a0af699",
   "metadata": {},
   "outputs": [
    {
     "name": "stdout",
     "output_type": "stream",
     "text": [
      "hello\n"
     ]
    }
   ],
   "source": [
    "print(\"hello\")"
   ]
  },
  {
   "cell_type": "markdown",
   "id": "a08fe478",
   "metadata": {},
   "source": [
    "     缩进"
   ]
  },
  {
   "cell_type": "markdown",
   "id": "0eb14121",
   "metadata": {},
   "source": [
    "         二级缩进"
   ]
  },
  {
   "cell_type": "markdown",
   "id": "3ed28a28",
   "metadata": {},
   "source": [
    " "
   ]
  },
  {
   "cell_type": "code",
   "execution_count": 2,
   "id": "6a306f25",
   "metadata": {},
   "outputs": [
    {
     "ename": "SyntaxError",
     "evalue": "invalid syntax (3084513392.py, line 3)",
     "output_type": "error",
     "traceback": [
      "\u001b[1;36m  Input \u001b[1;32mIn [2]\u001b[1;36m\u001b[0m\n\u001b[1;33m    order_data=member_consume[['年月'.'订单日期','卡号','订单号','订单类型','店铺代码1']]\u001b[0m\n\u001b[1;37m                                    ^\u001b[0m\n\u001b[1;31mSyntaxError\u001b[0m\u001b[1;31m:\u001b[0m invalid syntax\n"
     ]
    }
   ],
   "source": [
    "result=consume_count/order_count\n",
    "def stats_reorder(strt,end,col):\n",
    "    order_data=member_consume[['年月'.'订单日期','卡号','订单号','订单类型','店铺代码1']]"
   ]
  },
  {
   "cell_type": "code",
   "execution_count": null,
   "id": "fa026cb3",
   "metadata": {},
   "outputs": [],
   "source": [
    "pin_figure(figsize)"
   ]
  }
 ],
 "metadata": {
  "kernelspec": {
   "display_name": "Python 3 (ipykernel)",
   "language": "python",
   "name": "python3"
  },
  "language_info": {
   "codemirror_mode": {
    "name": "ipython",
    "version": 3
   },
   "file_extension": ".py",
   "mimetype": "text/x-python",
   "name": "python",
   "nbconvert_exporter": "python",
   "pygments_lexer": "ipython3",
   "version": "3.8.13"
  },
  "toc": {
   "base_numbering": 1,
   "nav_menu": {},
   "number_sections": true,
   "sideBar": true,
   "skip_h1_title": false,
   "title_cell": "Table of Contents",
   "title_sidebar": "Contents",
   "toc_cell": false,
   "toc_position": {},
   "toc_section_display": true,
   "toc_window_display": false
  }
 },
 "nbformat": 4,
 "nbformat_minor": 5
}
